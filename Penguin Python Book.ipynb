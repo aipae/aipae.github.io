{
 "cells": [
  {
   "cell_type": "markdown",
   "metadata": {
    "collapsed": false
   },
   "source": [
    "# 概述\n",
    "***"
   ]
  },
  {
   "cell_type": "markdown",
   "metadata": {
    "collapsed": true
   },
   "source": [
    "    学习Python已有一段时间，该语言简洁、灵活、可以跨多种平台，自开始学习至现在，一直对此充满热情，目前已经在桌面式window平台、桌面式linux平台、嵌入式linux平台进行了应用层的软件开发，并在桌面式windows和桌面式linux平台结合QT进行了一些编程，本人记忆力非常差，所以希望编写该资料进行总结，方便编程过程中查找。本资料所有章节组织均按照各个技术点进行分类，并不是一本一步一步学习的教材，请读者注意。另外本书会随着本人学习的不断深入，逐步完善。"
   ]
  },
  {
   "cell_type": "markdown",
   "metadata": {},
   "source": [
    "# Python安装\n",
    "***"
   ]
  },
  {
   "cell_type": "markdown",
   "metadata": {},
   "source": [
    "    本文通过安装：Anaconda3-4.1.1-Windows-x86_64.exe （自带 Python 3.5.2）直接安装就行，没有特殊步骤。"
   ]
  },
  {
   "cell_type": "markdown",
   "metadata": {},
   "source": [
    "    或进入Python官网：www.python.org/downloads/ 进行下载安装。"
   ]
  },
  {
   "cell_type": "markdown",
   "metadata": {},
   "source": [
    "# IDE集成开发环境\n",
    "***"
   ]
  },
  {
   "cell_type": "markdown",
   "metadata": {},
   "source": [
    "1. IDLE \n",
    "2. Pycharm(比较常用)\n",
    "3. Eric6\n",
    "4. spyder(安装Anaconda自带的IDE)\n",
    "5. Jupyter(安装Anaconda自带的网页版notebook)"
   ]
  },
  {
   "cell_type": "markdown",
   "metadata": {},
   "source": [
    "# Python 语法要求\n",
    "***"
   ]
  },
  {
   "cell_type": "markdown",
   "metadata": {},
   "source": [
    "1. 恰当的空格，缩进问题\n",
    "\n",
    "> 逻辑行首的空白（空格和制表符）用来决定逻辑行的缩进层次，从而用来决定语句的分组。\n",
    "\n",
    "> 语句从新行的第一列开始。\n",
    "\n",
    "> 缩进风格统一：\n",
    "\n",
    ">> 每个缩进层次使用 单个制表符 或四个空格（IDE会自动将制表符设置成4个空格）\n",
    "\n",
    ">> Python用缩进而不是{}表示程序块\n",
    "\n",
    "2. Python区分大小写\n",
    "\n",
    "3. 注释\n",
    "\n",
    "> 行注释\n",
    "\n",
    ">> 每行注释前加#号。当解释器看到#，则忽略这一行#后面的内容\n",
    "\n",
    "> 段注释\n",
    "\n",
    ">> 使用三个连续单引号（'''）。当解释看到'''，则会扫描到下一个'''，然后忽略他们之间的内容。\n",
    "\n"
   ]
  },
  {
   "cell_type": "markdown",
   "metadata": {},
   "source": [
    "3.说明：\n",
    "> 很多编程语言通过字符(例如：花括号{})、关键字(例如：begain/end)来划分代码块。同时，在配合代码的缩进增加可读性。“龟叔”设计Python语言时，直接通过缩进来组织代码块。“缩进”成为了Python语法强制的规定。\n",
    "缩进时，几个空格都是允许的，但是数目必须统一。我们通常采用“四个空格”表示一个缩进。\n",
    "同时，也要避免将“tab制表符”或者tab与空格混合的缩进风格。目前，常用的编辑器一般设置成：tab制表符就是4个空格。\n",
    "\n",
    "Python官方推荐的PEP-8代码风格详细说明，有兴趣的同学可以参考：\n",
    "https://www.python.org/dev/peps/pep-0008/ \n"
   ]
  },
  {
   "cell_type": "markdown",
   "metadata": {},
   "source": [
    "4.使用\\行连接符:\n",
    "\n",
    "一行程序长度是没有限制的，但是为了可读性更强，通常将一行比较长的程序分为多行。这是，我们可以使用\\行连接符，把它放在行结束的地方。Python解释器仍然将它们解释为同一行。"
   ]
  },
  {
   "cell_type": "code",
   "execution_count": 3,
   "metadata": {
    "collapsed": false
   },
   "outputs": [
    {
     "name": "stdout",
     "output_type": "stream",
     "text": [
      "123    456    789\n",
      "[1, 2, 3, 4, 5, 6, 7, 8, 9]\n"
     ]
    }
   ],
   "source": [
    "a = '123\\\n",
    "    456\\\n",
    "    789'\n",
    "b = [1,2,3,\\\n",
    "    4,5,6,\\\n",
    "    7,8,9]\n",
    "print(a)\n",
    "print(b)"
   ]
  },
  {
   "cell_type": "markdown",
   "metadata": {},
   "source": [
    "5.标识符\n",
    "\n",
    "    用于变量、函数、类、模块等的名称。标识符有如下特定的规则：\n",
    "    - 区分大小写。如：sxt和SXT是不同的\n",
    "    - 第一个字符必须是字母、下划线。其后的字符是：字母、数字、下划线\n",
    "    - 不能使用关键字。比如：if、or、while等。\n",
    "    - 以双下划线开头和结尾的名称通常有特殊含义，尽量避免这种写法。比如：__init__是类的构造函数。\n"
   ]
  },
  {
   "cell_type": "markdown",
   "metadata": {},
   "source": [
    "开发中，我们通常约定俗称标识符遵守如下规则：\n",
    "\n",
    "|类型|规则|例子|\n",
    "|----|----|----|\n",
    "|模块和包名|\t全小写字母，尽量简单。若多个单词之间用下划线|\tmath, os, sys|\n",
    "|函数名|\t全小写字母，多个单词之间用下划线隔开|\tphone, my_name|\n",
    "|类名|\t首字母大写，采用驼峰原则。多个单词时，每个单词第一个字母大写，其余部分小写|\tMyPhone、MyClass、Phone|\n",
    "|常量名|\t全大写字母，多个单词使用下划线隔开|\tSPEED、MAX_SPEED|\n"
   ]
  },
  {
   "cell_type": "markdown",
   "metadata": {},
   "source": [
    "# 变量的声明和赋值\n",
    "***"
   ]
  },
  {
   "cell_type": "markdown",
   "metadata": {},
   "source": [
    "变量的声明和赋值用于将一个变量绑定到一个对象上，声明和赋值同时进行，格式如下：\n",
    "\n",
    "变量名 = 表达式\n",
    "\n",
    "*** 最简单的表达式就是字面量。比如：a = 123 。 运行过程中，解释器先运行右边的表达式，生成一个代表表达式运算结果的对象；然后，将这个对象地址赋值给左边的变量。***\n"
   ]
  },
  {
   "cell_type": "markdown",
   "metadata": {},
   "source": [
    "- 变量在使用前必须先被初始化（先被赋值）"
   ]
  },
  {
   "cell_type": "markdown",
   "metadata": {},
   "source": [
    "- 可以通过 del(变量名) 语句删除不在使用的变量。"
   ]
  },
  {
   "cell_type": "markdown",
   "metadata": {},
   "source": [
    "- 链式赋值用于同一个对象赋值给多个变量,如下所示，引用的对象地址相同。"
   ]
  },
  {
   "cell_type": "code",
   "execution_count": 5,
   "metadata": {
    "collapsed": false
   },
   "outputs": [
    {
     "name": "stdout",
     "output_type": "stream",
     "text": [
      "1957957936\n",
      "1957957936\n",
      "1957957936\n"
     ]
    }
   ],
   "source": [
    "a = b = c = 123\n",
    "print(id(a))\n",
    "print(id(b))\n",
    "print(id(c))"
   ]
  },
  {
   "cell_type": "markdown",
   "metadata": {},
   "source": [
    "- 系列解包赋值给对应相同个数的变量（个数必须保持一致）"
   ]
  },
  {
   "cell_type": "code",
   "execution_count": 8,
   "metadata": {
    "collapsed": false
   },
   "outputs": [
    {
     "name": "stdout",
     "output_type": "stream",
     "text": [
      "a : 1\n",
      "b : 1.2\n",
      "c : I Love U\n",
      "d : (5, 6, 7)\n"
     ]
    }
   ],
   "source": [
    "a,b,c,d = 1,1.2,'I Love U',(5,6,7)\n",
    "print('a : {0}'.format(a))\n",
    "print('b : {0}'.format(b))\n",
    "print('c : {0}'.format(c))\n",
    "print('d : {0}'.format(d))"
   ]
  },
  {
   "cell_type": "markdown",
   "metadata": {},
   "source": [
    "- 系列解包赋值可进行变量交换"
   ]
  },
  {
   "cell_type": "code",
   "execution_count": 10,
   "metadata": {
    "collapsed": false
   },
   "outputs": [
    {
     "name": "stdout",
     "output_type": "stream",
     "text": [
      "a:1 b:5\n",
      "a:5 b:1\n"
     ]
    }
   ],
   "source": [
    "a,b = 1,5\n",
    "print('a:{0} b:{1}'.format(a,b))\n",
    "a,b = b,a\n",
    "print('a:{0} b:{1}'.format(a,b))"
   ]
  },
  {
   "cell_type": "markdown",
   "metadata": {},
   "source": [
    "-  Python 不支持常量，即没有语法规则限制改变一个常量的值。我们只能约定常量的命名规则，以及在程序的逻辑上不对常量的值作出修改。"
   ]
  },
  {
   "cell_type": "code",
   "execution_count": 11,
   "metadata": {
    "collapsed": false
   },
   "outputs": [
    {
     "name": "stdout",
     "output_type": "stream",
     "text": [
      "100\n",
      "60\n"
     ]
    }
   ],
   "source": [
    "SPEED = 100\n",
    "print(SPEED)\n",
    "SPEED = 60 #实际是可以改的。只能逻辑上不做修改。\n",
    "print(SPEED)"
   ]
  },
  {
   "cell_type": "markdown",
   "metadata": {},
   "source": [
    "# 帮助系统\n",
    "***"
   ]
  },
  {
   "cell_type": "markdown",
   "metadata": {},
   "source": [
    "通过'help()'进入帮助系统,并通过输入'quit'来退出帮助系统"
   ]
  },
  {
   "cell_type": "code",
   "execution_count": 4,
   "metadata": {
    "collapsed": false
   },
   "outputs": [
    {
     "name": "stdout",
     "output_type": "stream",
     "text": [
      "\n",
      "Welcome to Python 3.5's help utility!\n",
      "\n",
      "If this is your first time using Python, you should definitely check out\n",
      "the tutorial on the Internet at http://docs.python.org/3.5/tutorial/.\n",
      "\n",
      "Enter the name of any module, keyword, or topic to get help on writing\n",
      "Python programs and using Python modules.  To quit this help utility and\n",
      "return to the interpreter, just type \"quit\".\n",
      "\n",
      "To get a list of available modules, keywords, symbols, or topics, type\n",
      "\"modules\", \"keywords\", \"symbols\", or \"topics\".  Each module also comes\n",
      "with a one-line summary of what it does; to list the modules whose name\n",
      "or summary contain a given string such as \"spam\", type \"modules spam\".\n",
      "\n",
      "help> keywords\n",
      "\n",
      "Here is a list of the Python keywords.  Enter any keyword to get more help.\n",
      "\n",
      "False               def                 if                  raise\n",
      "None                del                 import              return\n",
      "True                elif                in                  try\n",
      "and                 else                is                  while\n",
      "as                  except              lambda              with\n",
      "assert              finally             nonlocal            yield\n",
      "break               for                 not                 \n",
      "class               from                or                  \n",
      "continue            global              pass                \n",
      "\n",
      "help> quit\n",
      "\n",
      "You are now leaving help and returning to the Python interpreter.\n",
      "If you want to ask for help on a particular object directly from the\n",
      "interpreter, you can type \"help(object)\".  Executing \"help('string')\"\n",
      "has the same effect as typing a particular string at the help> prompt.\n"
     ]
    }
   ],
   "source": [
    "help()"
   ]
  },
  {
   "cell_type": "markdown",
   "metadata": {},
   "source": [
    "或通过  help('参数名') 以及  help(对象名') 来查看帮助信息,如下："
   ]
  },
  {
   "cell_type": "code",
   "execution_count": 16,
   "metadata": {
    "collapsed": false
   },
   "outputs": [
    {
     "name": "stdout",
     "output_type": "stream",
     "text": [
      "测试 help('keywords') 功能：\n",
      "\n",
      "Here is a list of the Python keywords.  Enter any keyword to get more help.\n",
      "\n",
      "False               def                 if                  raise\n",
      "None                del                 import              return\n",
      "True                elif                in                  try\n",
      "and                 else                is                  while\n",
      "as                  except              lambda              with\n",
      "assert              finally             nonlocal            yield\n",
      "break               for                 not                 \n",
      "class               from                or                  \n",
      "continue            global              pass                \n",
      "\n",
      "测试 help(对象) 功能：\n",
      "Help on class pClass in module __main__:\n",
      "\n",
      "class pClass(builtins.object)\n",
      " |  这是我自己定义的类，这个类包含以下方法：\n",
      " |  1. 方法1\n",
      " |  2. 方法2 \n",
      " |  3. 方法3\n",
      " |  \n",
      " |  Data descriptors defined here:\n",
      " |  \n",
      " |  __dict__\n",
      " |      dictionary for instance variables (if defined)\n",
      " |  \n",
      " |  __weakref__\n",
      " |      list of weak references to the object (if defined)\n",
      "\n"
     ]
    }
   ],
   "source": [
    "print('测试 help(\\'keywords\\') 功能：')\n",
    "help('keywords')\n",
    "\n",
    "\n",
    "print('测试 help(对象) 功能：')\n",
    "class pClass():\n",
    "    '''\n",
    "    这是我自己定义的类，这个类包含以下方法：\n",
    "    1. 方法1\n",
    "    2. 方法2 \n",
    "    3. 方法3\n",
    "    '''\n",
    "help(pClass)"
   ]
  },
  {
   "cell_type": "markdown",
   "metadata": {
    "collapsed": false
   },
   "source": [
    "# 对象\n",
    "***"
   ]
  },
  {
   "cell_type": "markdown",
   "metadata": {
    "collapsed": true
   },
   "source": [
    "Python中，一切皆对象。每个对象由：标识（identity）、类型（type）、value（值）组成。\n",
    "\n",
    "1. 标识用于唯一标识对象，通常对应于对象在计算机内存中的地址。使用内置函数id(obj)可返回对象obj的标识。\n",
    "2. 类型用于表示对象存储的“数据”的类型。类型可以限制对象的取值范围以及可执行的操作。可以使用type(obj)获得对象的所属类型。\n",
    "3. 值表示对象所存储的数据的信息。使用print(obj)可以直接打印出值。\n",
    "\n",
    "对象的本质就是：一个内存块，拥有特定的值，支持特定类型的相关操作。\n"
   ]
  },
  {
   "cell_type": "markdown",
   "metadata": {},
   "source": [
    "通过 id(对象名) 函数获取对象存放地址，通过 type(对象名) 函数可获取对象类型，如下："
   ]
  },
  {
   "cell_type": "code",
   "execution_count": 4,
   "metadata": {
    "collapsed": false
   },
   "outputs": [
    {
     "name": "stdout",
     "output_type": "stream",
     "text": [
      "<class 'int'>\n",
      "1957954096\n",
      "<class 'str'>\n",
      "70868064\n",
      "<class 'float'>\n",
      "67323968\n"
     ]
    }
   ],
   "source": [
    "a = 3\n",
    "b = '我爱你'\n",
    "c = 3.141\n",
    "print(type(a))\n",
    "print(id(a))\n",
    "print(type(b))\n",
    "print(id(b))\n",
    "print(type(c))\n",
    "print(id(c))"
   ]
  },
  {
   "cell_type": "markdown",
   "metadata": {
    "collapsed": true
   },
   "source": [
    "![](./Penguin Python Book/pic001.png)"
   ]
  },
  {
   "cell_type": "markdown",
   "metadata": {},
   "source": [
    "# 引用\n",
    "***"
   ]
  },
  {
   "cell_type": "markdown",
   "metadata": {},
   "source": [
    "在Python中，变量也称为：***对象的引用***。因为，变量存储的就是对象的地址。\n",
    "变量通过地址引用了“对象”"
   ]
  },
  {
   "cell_type": "markdown",
   "metadata": {},
   "source": [
    "- 变量位于：栈内存\n",
    "- 对象位于：堆内存\n",
    "- Python是动态类型语言,变量不需要显式声明类型。根据变量引用的对象，Python解释器自动确定数据类型。\n",
    "- Python是强类型语言,每个对象都有数据类型，只支持该类型支持的操作。\n",
    "\n",
    "如下图所示：\n",
    "![](./Penguin Python Book/pic002.png)"
   ]
  },
  {
   "cell_type": "markdown",
   "metadata": {},
   "source": [
    "# 数据类型\n",
    "***"
   ]
  },
  {
   "cell_type": "markdown",
   "metadata": {},
   "source": [
    "每个对象都有类型，python中最基本的内置数据类型："
   ]
  },
  {
   "cell_type": "markdown",
   "metadata": {},
   "source": [
    "## 整型"
   ]
  },
  {
   "cell_type": "markdown",
   "metadata": {},
   "source": [
    "整数如：2345,10,50\n",
    "Python中，除10进制，还有其他三种进制：\n",
    "- 0b或0B，二进制   0  1\n",
    "- 0o或0O，八进制   0  1  2  3  4  5  6  7\n",
    "- 0x或0X，十六进制 0  1  2  3  4  5  6  7  8  9  a  b  c  d  e  f\n"
   ]
  },
  {
   "cell_type": "code",
   "execution_count": 29,
   "metadata": {
    "collapsed": false
   },
   "outputs": [
    {
     "data": {
      "text/plain": [
       "1957962160"
      ]
     },
     "execution_count": 29,
     "metadata": {},
     "output_type": "execute_result"
    }
   ],
   "source": [
    "id(0xff)"
   ]
  },
  {
   "cell_type": "markdown",
   "metadata": {},
   "source": [
    "- 整数和浮点数混合运算时，表达式结果自动转型成浮点数。比如：2+8.0的结果是10.0"
   ]
  },
  {
   "cell_type": "markdown",
   "metadata": {},
   "source": [
    "- Python3中，int可以存储任意大小的整数\n",
    "- Python3中可以做超大数的计算，而不会造成“整数溢出”，这也是Python特别适合科学运算的特点。"
   ]
  },
  {
   "cell_type": "code",
   "execution_count": 40,
   "metadata": {
    "collapsed": false
   },
   "outputs": [
    {
     "name": "stdout",
     "output_type": "stream",
     "text": [
      "10000000000000000000000000000000000000000000000000000000000000000000000000000000000000000000000000000000000000000000000000000000000000000000000000000000000000000000000000000000000000000000000000000000000000000000000000000000000000000000000000000000000000000000000000000000000000000000000000000000000000000000000000000000000000000000000000000000000000000000000000000000000000000000000000000000000000000000000000000000000000000000000000000000000000000000000000000000000000000000000000000000000000000000000000000000000000000000000000000000000000000000000000000000000000000000000000000\n"
     ]
    }
   ],
   "source": [
    "a = 100000000000000000000000000000000000000000000000000000000000000000000000000000000000000000000000000000000000000000000000000000000000000000000000000000000000000000000000000000000000000000000000000000000000000000000000000000000000000000000000000000000000000000000000000000000000000000000000000\n",
    "print(a**2)"
   ]
  },
  {
   "cell_type": "markdown",
   "metadata": {},
   "source": [
    "**int()函数进行数据类型转换**"
   ]
  },
  {
   "cell_type": "markdown",
   "metadata": {},
   "source": [
    "- 浮点数直接舍去小数部分。如：int(9.9)结果是：9\n",
    "- 布尔值True转为1，False转为0。  如：int(True)结果是1\n",
    "- 字符串符合整数格式（浮点数格式不行）则直接转成对应整数，否则报错。"
   ]
  },
  {
   "cell_type": "code",
   "execution_count": 56,
   "metadata": {
    "collapsed": false
   },
   "outputs": [
    {
     "name": "stdout",
     "output_type": "stream",
     "text": [
      "3\n",
      "3\n",
      "1\n",
      "123\n"
     ]
    },
    {
     "ename": "ValueError",
     "evalue": "invalid literal for int() with base 10: 'i love u'",
     "output_type": "error",
     "traceback": [
      "\u001b[1;31m---------------------------------------------------------------------------\u001b[0m",
      "\u001b[1;31mValueError\u001b[0m                                Traceback (most recent call last)",
      "\u001b[1;32m<ipython-input-56-68fd5c34d6b0>\u001b[0m in \u001b[0;36m<module>\u001b[1;34m()\u001b[0m\n\u001b[0;32m      3\u001b[0m \u001b[0mprint\u001b[0m\u001b[1;33m(\u001b[0m\u001b[0mint\u001b[0m\u001b[1;33m(\u001b[0m\u001b[1;32mTrue\u001b[0m\u001b[1;33m)\u001b[0m\u001b[1;33m)\u001b[0m\u001b[1;33m\u001b[0m\u001b[0m\n\u001b[0;32m      4\u001b[0m \u001b[0mprint\u001b[0m\u001b[1;33m(\u001b[0m\u001b[0mint\u001b[0m\u001b[1;33m(\u001b[0m\u001b[1;34m'123'\u001b[0m\u001b[1;33m)\u001b[0m\u001b[1;33m)\u001b[0m\u001b[1;33m\u001b[0m\u001b[0m\n\u001b[1;32m----> 5\u001b[1;33m \u001b[0mprint\u001b[0m\u001b[1;33m(\u001b[0m\u001b[0mint\u001b[0m\u001b[1;33m(\u001b[0m\u001b[1;34m'i love u'\u001b[0m\u001b[1;33m)\u001b[0m\u001b[1;33m)\u001b[0m\u001b[1;33m\u001b[0m\u001b[0m\n\u001b[0m",
      "\u001b[1;31mValueError\u001b[0m: invalid literal for int() with base 10: 'i love u'"
     ]
    }
   ],
   "source": [
    "print(int(3.14))\n",
    "print(int(3.99))\n",
    "print(int(True))\n",
    "print(int('123'))\n",
    "print(int('i love u'))"
   ]
  },
  {
   "cell_type": "markdown",
   "metadata": {},
   "source": [
    "**时间的表示**"
   ]
  },
  {
   "cell_type": "markdown",
   "metadata": {},
   "source": [
    "计算机中时间的表示是从“1970年1月1日 00:00:00”开始，以毫秒（1/1000秒）进行计算。我们也把1970年这个时刻成为“unix时间点”。"
   ]
  },
  {
   "cell_type": "markdown",
   "metadata": {},
   "source": [
    "python中可以通过time.time() 获得当前时刻，返回的值是以秒为单位，带微秒（1/1000毫秒）精度的浮点值。例如：1530167364.8566"
   ]
  },
  {
   "cell_type": "code",
   "execution_count": 62,
   "metadata": {
    "collapsed": false
   },
   "outputs": [
    {
     "name": "stdout",
     "output_type": "stream",
     "text": [
      "1541429974.794703\n",
      "time.struct_time(tm_year=2018, tm_mon=11, tm_mday=5, tm_hour=22, tm_min=59, tm_sec=34, tm_wday=0, tm_yday=309, tm_isdst=0)\n"
     ]
    }
   ],
   "source": [
    "import time\n",
    "#print(help(time))\n",
    "print(time.time())\n",
    "print(time.localtime())"
   ]
  },
  {
   "cell_type": "markdown",
   "metadata": {},
   "source": [
    "**round()函数进行四舍五入**"
   ]
  },
  {
   "cell_type": "markdown",
   "metadata": {},
   "source": [
    "round()函数可以返回四舍五入的值,但不会改变原有值，而是产生新的值\n"
   ]
  },
  {
   "cell_type": "code",
   "execution_count": 55,
   "metadata": {
    "collapsed": false
   },
   "outputs": [
    {
     "name": "stdout",
     "output_type": "stream",
     "text": [
      "4\n",
      "3\n",
      "<class 'int'>\n"
     ]
    }
   ],
   "source": [
    "print(round(3.55))\n",
    "print(round(3.49))\n",
    "print(type(round(3.55)))"
   ]
  },
  {
   "cell_type": "markdown",
   "metadata": {},
   "source": [
    "## 浮点型"
   ]
  },
  {
   "cell_type": "markdown",
   "metadata": {},
   "source": [
    "浮点数，称为float，即小数。\n",
    "\n",
    "- 浮点数用科学计数法表示。比如：3.14，表示成：314E-2或者314e-2；\n",
    "- 浮点数在内存中也是按照科学计数法存储；\n",
    "- 用 float() 函数转换其他类型为浮点数；"
   ]
  },
  {
   "cell_type": "code",
   "execution_count": 50,
   "metadata": {
    "collapsed": false
   },
   "outputs": [
    {
     "name": "stdout",
     "output_type": "stream",
     "text": [
      "3.0\n",
      "678.234\n",
      "241.0\n"
     ]
    },
    {
     "ename": "ValueError",
     "evalue": "could not convert string to float: 'i love you'",
     "output_type": "error",
     "traceback": [
      "\u001b[1;31m---------------------------------------------------------------------------\u001b[0m",
      "\u001b[1;31mValueError\u001b[0m                                Traceback (most recent call last)",
      "\u001b[1;32m<ipython-input-50-e450ead71596>\u001b[0m in \u001b[0;36m<module>\u001b[1;34m()\u001b[0m\n\u001b[0;32m      2\u001b[0m \u001b[0mprint\u001b[0m\u001b[1;33m(\u001b[0m\u001b[0mfloat\u001b[0m\u001b[1;33m(\u001b[0m\u001b[1;34m'678.234'\u001b[0m\u001b[1;33m)\u001b[0m\u001b[1;33m)\u001b[0m\u001b[1;33m\u001b[0m\u001b[0m\n\u001b[0;32m      3\u001b[0m \u001b[0mprint\u001b[0m\u001b[1;33m(\u001b[0m\u001b[0mfloat\u001b[0m\u001b[1;33m(\u001b[0m\u001b[1;36m0xf1\u001b[0m\u001b[1;33m)\u001b[0m\u001b[1;33m)\u001b[0m\u001b[1;33m\u001b[0m\u001b[0m\n\u001b[1;32m----> 4\u001b[1;33m \u001b[0mprint\u001b[0m\u001b[1;33m(\u001b[0m\u001b[0mfloat\u001b[0m\u001b[1;33m(\u001b[0m\u001b[1;34m'i love you'\u001b[0m\u001b[1;33m)\u001b[0m\u001b[1;33m)\u001b[0m\u001b[1;33m\u001b[0m\u001b[0m\n\u001b[0m",
      "\u001b[1;31mValueError\u001b[0m: could not convert string to float: 'i love you'"
     ]
    }
   ],
   "source": [
    "print(float(3))\n",
    "print(float('678.234'))\n",
    "print(float(0xf1))\n",
    "print(float('i love you'))"
   ]
  },
  {
   "cell_type": "markdown",
   "metadata": {},
   "source": [
    "## 布尔型"
   ]
  },
  {
   "cell_type": "markdown",
   "metadata": {},
   "source": [
    "仅包含：True、False\n",
    "\n",
    "Python3中，把True和False定义成了关键字，但他们的本质还是1和0，甚至可以和数字相加。"
   ]
  },
  {
   "cell_type": "code",
   "execution_count": 64,
   "metadata": {
    "collapsed": false
   },
   "outputs": [
    {
     "name": "stdout",
     "output_type": "stream",
     "text": [
      "3\n"
     ]
    }
   ],
   "source": [
    "print(2+True)"
   ]
  },
  {
   "cell_type": "markdown",
   "metadata": {},
   "source": [
    "## 字符串型"
   ]
  },
  {
   "cell_type": "markdown",
   "metadata": {},
   "source": [
    "如：“abc”,”sxt”"
   ]
  },
  {
   "cell_type": "markdown",
   "metadata": {},
   "source": [
    "# 算术运算符\n",
    "***"
   ]
  },
  {
   "cell_type": "markdown",
   "metadata": {},
   "source": [
    "| 数据类型 | 运算符 | 说明 | 实例 | 结果 | 返回值类型 | 禁止 |\n",
    "| - | - | - | - | - | - |\n",
    "| int or float | + | 加法 | 1+2 | 3 | int or float | 无 |\n",
    "| int or float | - | 减法 | 1-2 | -1 | int or float | 无 |\n",
    "| int or float | `*` | 乘法 | `2*3` | 6 | int or float | 无 |\n",
    "| int or float | / | 除法 | 3/1 | 3.0 | float | 除数禁止为0 |\n",
    "| int or float | // | 获取除法结果的整数部分 | 5//2 | 2 | int or float | 除数禁止为0 |\n",
    "| int or float | %  | 取余 | 5%2 | 1 | int or float | 无 |\n",
    "| int or float | `**` | 幂 | `5**3` | 125 | int or float | 无 |"
   ]
  },
  {
   "cell_type": "code",
   "execution_count": 25,
   "metadata": {
    "collapsed": false
   },
   "outputs": [
    {
     "name": "stdout",
     "output_type": "stream",
     "text": [
      "1+2=3 type:<class 'int'> \n",
      "1-2=-1 type:<class 'int'> \n",
      "2*3=6 type:<class 'int'> \n",
      "3/1=3.0 type:<class 'float'> \n",
      "5//2=2 type:<class 'int'> \n",
      "5%2=1 type:<class 'int'> \n",
      "5**3=125 type:<class 'int'> \n"
     ]
    },
    {
     "ename": "ZeroDivisionError",
     "evalue": "integer division or modulo by zero",
     "output_type": "error",
     "traceback": [
      "\u001b[1;31m---------------------------------------------------------------------------\u001b[0m",
      "\u001b[1;31mZeroDivisionError\u001b[0m                         Traceback (most recent call last)",
      "\u001b[1;32m<ipython-input-25-ab23451c3bd7>\u001b[0m in \u001b[0;36m<module>\u001b[1;34m()\u001b[0m\n\u001b[0;32m      7\u001b[0m \u001b[0mprint\u001b[0m\u001b[1;33m(\u001b[0m\u001b[1;34m'5%2={0} type:{1} '\u001b[0m\u001b[1;33m.\u001b[0m\u001b[0mformat\u001b[0m\u001b[1;33m(\u001b[0m\u001b[0md5\u001b[0m\u001b[1;33m%\u001b[0m\u001b[0md2\u001b[0m\u001b[1;33m,\u001b[0m\u001b[0mtype\u001b[0m\u001b[1;33m(\u001b[0m\u001b[0md5\u001b[0m\u001b[1;33m%\u001b[0m\u001b[0md2\u001b[0m\u001b[1;33m)\u001b[0m\u001b[1;33m)\u001b[0m\u001b[1;33m)\u001b[0m\u001b[1;33m\u001b[0m\u001b[0m\n\u001b[0;32m      8\u001b[0m \u001b[0mprint\u001b[0m\u001b[1;33m(\u001b[0m\u001b[1;34m'5**3={0} type:{1} '\u001b[0m\u001b[1;33m.\u001b[0m\u001b[0mformat\u001b[0m\u001b[1;33m(\u001b[0m\u001b[0md5\u001b[0m\u001b[1;33m**\u001b[0m\u001b[0md3\u001b[0m\u001b[1;33m,\u001b[0m\u001b[0mtype\u001b[0m\u001b[1;33m(\u001b[0m\u001b[0md5\u001b[0m\u001b[1;33m**\u001b[0m\u001b[0md3\u001b[0m\u001b[1;33m)\u001b[0m\u001b[1;33m)\u001b[0m\u001b[1;33m)\u001b[0m\u001b[1;33m\u001b[0m\u001b[0m\n\u001b[1;32m----> 9\u001b[1;33m \u001b[0mprint\u001b[0m\u001b[1;33m(\u001b[0m\u001b[0md1\u001b[0m\u001b[1;33m//\u001b[0m\u001b[1;36m0\u001b[0m\u001b[1;33m)\u001b[0m\u001b[1;33m\u001b[0m\u001b[0m\n\u001b[0m",
      "\u001b[1;31mZeroDivisionError\u001b[0m: integer division or modulo by zero"
     ]
    }
   ],
   "source": [
    "d1,d2,d3,d5 = 1,2,3,5\n",
    "print('1+2={0} type:{1} '.format(d1+d2,type(d1+d2)))\n",
    "print('1-2={0} type:{1} '.format(d1-d2,type(d1-d2)))\n",
    "print('2*3={0} type:{1} '.format(d2*d3,type(d2*d3)))\n",
    "print('3/1={0} type:{1} '.format(d3/d1,type(d3/d1)))\n",
    "print('5//2={0} type:{1} '.format(d5//d2,type(d5//d2)))\n",
    "print('5%2={0} type:{1} '.format(d5%d2,type(d5%d2)))\n",
    "print('5**3={0} type:{1} '.format(d5**d3,type(d5**d3)))\n",
    "print(d1//0)"
   ]
  },
  {
   "cell_type": "markdown",
   "metadata": {},
   "source": [
    "**增强型运算符**"
   ]
  },
  {
   "cell_type": "markdown",
   "metadata": {},
   "source": [
    "| 运算符 | 举例 | 等价于 |\n",
    "| --- | --- | --- |\n",
    "| += | a += 1 | a = a+1 |\n",
    "| -= | a -= 1 | a = a-1 |\n",
    "| `*=` | `a *= 2` | `a = a*2` |\n",
    "| /= | a /= 4 | a = a/4 |\n",
    "| //= | a //= 5 | a = a//5 |\n",
    "| %= | a %= 5 | a = a%5 |\n",
    "| `**=` | `a **= 3` | `a = a**3` |\n"
   ]
  },
  {
   "cell_type": "markdown",
   "metadata": {},
   "source": [
    "# 比较运算符\n",
    "***"
   ]
  },
  {
   "cell_type": "markdown",
   "metadata": {},
   "source": [
    "| 运算符 | 说明 | 返回值类型 |\n",
    "| --- | --- | --- |\n",
    "| == | 等于 - 比较对象的值是否相等 | bool |\n",
    "| != | 不等于 - 比较两个对象的值是否不相等 | bool |\n",
    "| > | 大于 - 返回x是否大于y | bool |\n",
    "| < | 小于 - 返回x是否小于y | bool |\n",
    "| >= | 大于等于 - 返回x是否大于等于y | bool |\n",
    "| <= | 小于等于 - 返回x是否小于等于y | bool |\n"
   ]
  },
  {
   "cell_type": "code",
   "execution_count": 68,
   "metadata": {
    "collapsed": false
   },
   "outputs": [
    {
     "name": "stdout",
     "output_type": "stream",
     "text": [
      "<class 'bool'>\n",
      "False\n",
      "1957699792\n"
     ]
    }
   ],
   "source": [
    "print(type(1>2))\n",
    "print(1>2)\n",
    "print(id(1>2))"
   ]
  },
  {
   "cell_type": "markdown",
   "metadata": {},
   "source": [
    "# 逻辑运算符\n",
    "***"
   ]
  },
  {
   "cell_type": "markdown",
   "metadata": {},
   "source": [
    "| 运算符 | 格式 | 说明 | 返回值类型 |\n",
    "| --- | --- | --- | --- |\n",
    "| and | x and y | x为true，则不计算y，直接返回y，x为false，则返回y | x为True时与y一致，x为False时与x一致 |\n",
    "| or | x or y | x为true，则返回y的值，x为false，则不计算y，直接返回false | --- |\n",
    "| not | not x | x为true，返回false，x为false，返回true | bool |"
   ]
  },
  {
   "cell_type": "code",
   "execution_count": 86,
   "metadata": {
    "collapsed": false
   },
   "outputs": [
    {
     "name": "stdout",
     "output_type": "stream",
     "text": [
      "False\n",
      "<class 'bool'>\n",
      "---------------\n",
      "5\n",
      "<class 'int'>\n",
      "---------------\n",
      "False\n",
      "<class 'bool'>\n",
      "---------------\n"
     ]
    }
   ],
   "source": [
    "print(False and 0.25)\n",
    "print(type(False and 0.25))\n",
    "print('---------------')\n",
    "print(5 or 0.25)\n",
    "print(type(5 or 0.25))\n",
    "print('---------------')\n",
    "print(not 6)\n",
    "print(type(not 6))\n",
    "print('---------------')"
   ]
  },
  {
   "cell_type": "markdown",
   "metadata": {},
   "source": [
    "# 同一运算符\n",
    "***"
   ]
  },
  {
   "cell_type": "markdown",
   "metadata": {},
   "source": [
    "同一运算符用于比较两个对象的存储单元，实际比较的是对象的地址"
   ]
  },
  {
   "cell_type": "markdown",
   "metadata": {},
   "source": [
    "| 运算符 | 描述 |\n",
    "|----|----|\n",
    "|is\t| is是判断两个标识符是不是引用同一个对象|\n",
    "|is not | is not 是判断两个标识符是不是引用不同对象|\n"
   ]
  },
  {
   "cell_type": "markdown",
   "metadata": {},
   "source": [
    "**is 与 == 区别**"
   ]
  },
  {
   "cell_type": "markdown",
   "metadata": {},
   "source": [
    "- `is 用于判断两个变量引用对象是否为同一个，既比较对象的地址`"
   ]
  },
  {
   "cell_type": "markdown",
   "metadata": {},
   "source": [
    "- `== 用于判断引用变量引用对象的值是否相等，默认调用对象的 __eq__()方法`"
   ]
  },
  {
   "cell_type": "markdown",
   "metadata": {},
   "source": [
    "**整数缓存问题**"
   ]
  },
  {
   "cell_type": "markdown",
   "metadata": {},
   "source": [
    "Python仅仅对比较小的整数对象进行缓存（范围为[-5, 256]）缓存起来，而并非是所有整数对象。需要注意的是，这仅仅是在命令行中执行，而在Pycharm或者保存为文件执行，结果是不一样的，这是因为解释器做了一部分优化(范围是[-5,任意正整数])。"
   ]
  },
  {
   "cell_type": "markdown",
   "metadata": {},
   "source": [
    "- 小整数对象[-5,256]在全局解释器范围内被放入缓存供重复使用；"
   ]
  },
  {
   "cell_type": "markdown",
   "metadata": {},
   "source": [
    "- is 运算符比 == 效率高，在变量和None进行比较时，应该使用 is。"
   ]
  },
  {
   "cell_type": "code",
   "execution_count": 102,
   "metadata": {
    "collapsed": false
   },
   "outputs": [
    {
     "name": "stdout",
     "output_type": "stream",
     "text": [
      "c:1 address:1957954032\n",
      "d:1 address:1957954032\n",
      "True\n",
      "True\n"
     ]
    }
   ],
   "source": [
    "c = d = 1\n",
    "print('c:{0} address:{1}'.format(c,id(c)))\n",
    "print('d:{0} address:{1}'.format(d,id(d)))\n",
    "print(c == d)\n",
    "print(c is d)#小整数范围"
   ]
  },
  {
   "cell_type": "code",
   "execution_count": 107,
   "metadata": {
    "collapsed": false
   },
   "outputs": [
    {
     "name": "stdout",
     "output_type": "stream",
     "text": [
      "c:-1000 address:70555760\n",
      "d:-1000 address:70555792\n",
      "True\n",
      "False\n"
     ]
    }
   ],
   "source": [
    "c = -1000\n",
    "d = -1000\n",
    "print('c:{0} address:{1}'.format(c,id(c)))\n",
    "print('d:{0} address:{1}'.format(d,id(d)))\n",
    "print(c == d)\n",
    "print(c is d)"
   ]
  },
  {
   "cell_type": "markdown",
   "metadata": {},
   "source": []
  },
  {
   "cell_type": "markdown",
   "metadata": {},
   "source": []
  },
  {
   "cell_type": "markdown",
   "metadata": {},
   "source": []
  },
  {
   "cell_type": "markdown",
   "metadata": {},
   "source": []
  },
  {
   "cell_type": "markdown",
   "metadata": {},
   "source": []
  },
  {
   "cell_type": "markdown",
   "metadata": {},
   "source": []
  },
  {
   "cell_type": "code",
   "execution_count": 3,
   "metadata": {
    "collapsed": false
   },
   "outputs": [
    {
     "data": {
      "text/plain": [
       "[<matplotlib.lines.Line2D at 0xb22fcf8>]"
      ]
     },
     "execution_count": 3,
     "metadata": {},
     "output_type": "execute_result"
    },
    {
     "data": {
      "image/png": "[encoded data removed]",
      "text/plain": [
       "<matplotlib.figure.Figure at 0xb1d7c88>"
      ]
     },
     "metadata": {},
     "output_type": "display_data"
    }
   ],
   "source": [
    "import matplotlib.pyplot as plt\n",
    "import numpy as np\n",
    "\n",
    "x = np.arange(20)\n",
    "y = x**2\n",
    "\n",
    "plt.plot(x, y)"
   ]
  },
  {
   "cell_type": "markdown",
   "metadata": {},
   "source": [
    "Visual C++ Redistributable for Visual Studio 2015 "
   ]
  },
  {
   "cell_type": "code",
   "execution_count": 2,
   "metadata": {
    "collapsed": false
   },
   "outputs": [
    {
     "ename": "ImportError",
     "evalue": "DLL load failed: 找不到指定的模块。",
     "output_type": "error",
     "traceback": [
      "\u001b[1;31m---------------------------------------------------------------------------\u001b[0m",
      "\u001b[1;31mImportError\u001b[0m                               Traceback (most recent call last)",
      "\u001b[1;32m<ipython-input-2-2ae3ffe9bfa2>\u001b[0m in \u001b[0;36m<module>\u001b[1;34m()\u001b[0m\n\u001b[1;32m----> 1\u001b[1;33m \u001b[1;32mimport\u001b[0m \u001b[0mcv2\u001b[0m \u001b[1;32mas\u001b[0m \u001b[0mcv\u001b[0m\u001b[1;33m\u001b[0m\u001b[0m\n\u001b[0m\u001b[0;32m      2\u001b[0m \u001b[0msrc\u001b[0m \u001b[1;33m=\u001b[0m \u001b[0mcv\u001b[0m\u001b[1;33m.\u001b[0m\u001b[0mimread\u001b[0m\u001b[1;33m(\u001b[0m\u001b[1;34m\"./利用github搭建自己的网站/test.jpg\"\u001b[0m\u001b[1;33m)\u001b[0m\u001b[1;33m\u001b[0m\u001b[0m\n\u001b[0;32m      3\u001b[0m \u001b[0mcv\u001b[0m\u001b[1;33m.\u001b[0m\u001b[0mimgshow\u001b[0m\u001b[1;33m(\u001b[0m\u001b[1;34m'src'\u001b[0m\u001b[1;33m,\u001b[0m\u001b[0msrc\u001b[0m\u001b[1;33m)\u001b[0m\u001b[1;33m\u001b[0m\u001b[0m\n\u001b[0;32m      4\u001b[0m \u001b[0mcv\u001b[0m\u001b[1;33m.\u001b[0m\u001b[0mwaitKey\u001b[0m\u001b[1;33m(\u001b[0m\u001b[1;36m0\u001b[0m\u001b[1;33m)\u001b[0m\u001b[1;33m\u001b[0m\u001b[0m\n\u001b[0;32m      5\u001b[0m \u001b[0mcv\u001b[0m\u001b[1;33m.\u001b[0m\u001b[0mdestroyAllWindows\u001b[0m\u001b[1;33m(\u001b[0m\u001b[1;33m)\u001b[0m\u001b[1;33m\u001b[0m\u001b[0m\n",
      "\u001b[1;32mC:\\Anaconda3\\lib\\site-packages\\cv2\\__init__.py\u001b[0m in \u001b[0;36m<module>\u001b[1;34m()\u001b[0m\n\u001b[0;32m      1\u001b[0m \u001b[1;32mimport\u001b[0m \u001b[0mimportlib\u001b[0m\u001b[1;33m\u001b[0m\u001b[0m\n\u001b[0;32m      2\u001b[0m \u001b[1;33m\u001b[0m\u001b[0m\n\u001b[1;32m----> 3\u001b[1;33m \u001b[1;32mfrom\u001b[0m \u001b[1;33m.\u001b[0m\u001b[0mcv2\u001b[0m \u001b[1;32mimport\u001b[0m \u001b[1;33m*\u001b[0m\u001b[1;33m\u001b[0m\u001b[0m\n\u001b[0m\u001b[0;32m      4\u001b[0m \u001b[1;32mfrom\u001b[0m \u001b[1;33m.\u001b[0m\u001b[0mdata\u001b[0m \u001b[1;32mimport\u001b[0m \u001b[1;33m*\u001b[0m\u001b[1;33m\u001b[0m\u001b[0m\n\u001b[0;32m      5\u001b[0m \u001b[1;33m\u001b[0m\u001b[0m\n",
      "\u001b[1;31mImportError\u001b[0m: DLL load failed: 找不到指定的模块。"
     ]
    }
   ],
   "source": [
    "import cv2 as cv\n",
    "src = cv.imread(\"./利用github搭建自己的网站/test.jpg\")\n",
    "cv.imgshow('src',src)\n",
    "cv.waitKey(0)\n",
    "cv.destroyAllWindows()"
   ]
  },
  {
   "cell_type": "markdown",
   "metadata": {
    "collapsed": true
   },
   "source": [
    "# Anaconda的使用"
   ]
  },
  {
   "cell_type": "markdown",
   "metadata": {
    "collapsed": true
   },
   "source": [
    "## 常用命令说明"
   ]
  },
  {
   "cell_type": "markdown",
   "metadata": {},
   "source": [
    "conda list 列出已经安装的所有模块"
   ]
  },
  {
   "cell_type": "markdown",
   "metadata": {
    "collapsed": true
   },
   "source": [
    "conda insatall [模块名]\n",
    "\n",
    "eg：\n",
    "\n",
    "conda install git"
   ]
  },
  {
   "cell_type": "markdown",
   "metadata": {
    "collapsed": true
   },
   "source": [
    "![](./利用github搭建自己的网站/test.jpg)"
   ]
  },
  {
   "cell_type": "markdown",
   "metadata": {
    "collapsed": true
   },
   "source": [
    "# 程序打包"
   ]
  },
  {
   "cell_type": "markdown",
   "metadata": {
    "collapsed": true
   },
   "source": [
    "## 安装 cx_Freeze 打包工具"
   ]
  },
  {
   "cell_type": "markdown",
   "metadata": {
    "collapsed": true
   },
   "source": [
    "pip install cx_freeze"
   ]
  },
  {
   "cell_type": "code",
   "execution_count": null,
   "metadata": {
    "collapsed": true
   },
   "outputs": [],
   "source": []
  },
  {
   "cell_type": "code",
   "execution_count": null,
   "metadata": {
    "collapsed": true
   },
   "outputs": [],
   "source": []
  },
  {
   "cell_type": "code",
   "execution_count": null,
   "metadata": {
    "collapsed": true
   },
   "outputs": [],
   "source": []
  },
  {
   "cell_type": "code",
   "execution_count": null,
   "metadata": {
    "collapsed": true
   },
   "outputs": [],
   "source": []
  },
  {
   "cell_type": "code",
   "execution_count": null,
   "metadata": {
    "collapsed": true
   },
   "outputs": [],
   "source": []
  }
 ],
 "metadata": {
  "anaconda-cloud": {},
  "kernelspec": {
   "display_name": "Python [Root]",
   "language": "python",
   "name": "Python [Root]"
  },
  "language_info": {
   "codemirror_mode": {
    "name": "ipython",
    "version": 3
   },
   "file_extension": ".py",
   "mimetype": "text/x-python",
   "name": "python",
   "nbconvert_exporter": "python",
   "pygments_lexer": "ipython3",
   "version": "3.5.2"
  }
 },
 "nbformat": 4,
 "nbformat_minor": 0
}
