{
 "cells": [
  {
   "cell_type": "markdown",
   "metadata": {},
   "source": [
    "# 利用github搭建自己的网站"
   ]
  },
  {
   "cell_type": "markdown",
   "metadata": {},
   "source": [
    "## 准备工作"
   ]
  },
  {
   "cell_type": "markdown",
   "metadata": {},
   "source": [
    "官方网站地址： https://github.com/\n",
    "\n",
    "个人邮箱：test1234@sina.cn\n",
    "\n",
    "html网页：index.html"
   ]
  },
  {
   "cell_type": "markdown",
   "metadata": {},
   "source": [
    "## 第一步： 通过个人邮箱，创建自己的github账号"
   ]
  },
  {
   "cell_type": "markdown",
   "metadata": {},
   "source": [
    "## 第二步： 创建仓库如下图所示"
   ]
  },
  {
   "cell_type": "markdown",
   "metadata": {},
   "source": [
    "![](./利用github搭建自己的网站/pic001.png)"
   ]
  },
  {
   "cell_type": "markdown",
   "metadata": {},
   "source": [
    "## 第三步：输入仓库名（其实也就是你的网站地址）"
   ]
  },
  {
   "cell_type": "markdown",
   "metadata": {},
   "source": [
    "![](./利用github搭建自己的网站/pic002.png)"
   ]
  },
  {
   "cell_type": "markdown",
   "metadata": {},
   "source": [
    "注意：前面的名字必须和用户名相同，下面Description是项目描述，下面的就让他默认，不用管，直接点击：Create repository  就可以了。"
   ]
  },
  {
   "cell_type": "markdown",
   "metadata": {},
   "source": [
    "网站上的操作就完成了"
   ]
  },
  {
   "cell_type": "markdown",
   "metadata": {},
   "source": [
    "## 第四步： 安装git"
   ]
  },
  {
   "cell_type": "markdown",
   "metadata": {},
   "source": [
    "我自己用的windows7的操作系统，本身由于学习python安装了Anaconda，因此我利用Anaconda的命令行安装git，命令如下："
   ]
  },
  {
   "cell_type": "markdown",
   "metadata": {},
   "source": [
    "conda install git  出现提示输入‘y’即可自动安装"
   ]
  },
  {
   "cell_type": "markdown",
   "metadata": {},
   "source": [
    "运行Anaconda命令行："
   ]
  },
  {
   "cell_type": "markdown",
   "metadata": {},
   "source": [
    "![](./利用github搭建自己的网站/pic005.png)"
   ]
  },
  {
   "cell_type": "markdown",
   "metadata": {},
   "source": [
    "安装git："
   ]
  },
  {
   "cell_type": "markdown",
   "metadata": {},
   "source": [
    "![](./利用github搭建自己的网站/pic006.png)"
   ]
  },
  {
   "cell_type": "markdown",
   "metadata": {},
   "source": [
    "安装完成如下图,在开始菜单中能够找到git bash程序："
   ]
  },
  {
   "cell_type": "markdown",
   "metadata": {},
   "source": [
    "![](./利用github搭建自己的网站/pic004.png)"
   ]
  },
  {
   "cell_type": "markdown",
   "metadata": {},
   "source": [
    "## 第五步：克隆远程仓库到本地路径"
   ]
  },
  {
   "cell_type": "markdown",
   "metadata": {},
   "source": [
    "打开上一步安装的“Git Bash”软件，如下图："
   ]
  },
  {
   "cell_type": "markdown",
   "metadata": {},
   "source": [
    "![](./利用github搭建自己的网站/pic007.png)"
   ]
  },
  {
   "cell_type": "markdown",
   "metadata": {},
   "source": [
    "选择一个用来存放仓库克隆的文件夹，我选择放在\"D:\\test\"文件夹,进入该目录，并输入以下命令：\n",
    "\n",
    "git clone https://github.com/UserName/UserName.github.io.git （克隆远程路径,注意UserName用你自己的用户名替换）\n",
    "\n",
    "克隆到本地的文件夹如下图所示：![](./利用github搭建自己的网站/pic008.png)"
   ]
  },
  {
   "cell_type": "markdown",
   "metadata": {},
   "source": [
    "## 第6步： 上传自己的网页"
   ]
  },
  {
   "cell_type": "markdown",
   "metadata": {},
   "source": [
    "我只是为了测试就把中央新闻的主页当了下来，如下图所示,需要注意的是主页名字必须为index.html\n",
    "![](./利用github搭建自己的网站/pic013.png)![](./利用github搭建自己的网站/pic014.png)"
   ]
  },
  {
   "cell_type": "markdown",
   "metadata": {},
   "source": [
    "### 修改或拷贝新的文件到该目录之后，依次运行以下命令进行上传："
   ]
  },
  {
   "cell_type": "markdown",
   "metadata": {},
   "source": [
    "cd UserName.github.io （注意：必须进入克隆的仓库目录，否则以下命令无效，UserName用你自己的用户名替换）\n",
    "\n",
    "git add .（注意这个点，因为我的视力不是很好，没看清，所以第一次上传的时候没写，结果肯定就是失败了。）\n",
    "\n",
    "git commit -m \"注释\"  （注释内容随便输入）\n",
    "\n",
    "git push （该命令之后系统会提示输入用户名和密码）\n",
    "\n",
    "如下图所示：\n",
    "![](./利用github搭建自己的网站/pic010.png)![](./利用github搭建自己的网站/pic011.png)"
   ]
  },
  {
   "cell_type": "markdown",
   "metadata": {},
   "source": [
    "如果大家觉得这个网址不好听，不好记，可以自己去购买域名。"
   ]
  },
  {
   "cell_type": "markdown",
   "metadata": {},
   "source": [
    "引用地址：https://blog.csdn.net/Bright2017/article/details/70939661"
   ]
  },
  {
   "cell_type": "markdown",
   "metadata": {},
   "source": [
    "作者：penguin 网站地址：http://aipae.github.io"
   ]
  },
  {
   "cell_type": "markdown",
   "metadata": {},
   "source": []
  }
 ],
 "metadata": {
  "kernelspec": {
   "display_name": "Python [Root]",
   "language": "python",
   "name": "Python [Root]"
  },
  "language_info": {
   "codemirror_mode": {
    "name": "ipython",
    "version": 3
   },
   "file_extension": ".py",
   "mimetype": "text/x-python",
   "name": "python",
   "nbconvert_exporter": "python",
   "pygments_lexer": "ipython3",
   "version": "3.5.2"
  }
 },
 "nbformat": 4,
 "nbformat_minor": 0
}
